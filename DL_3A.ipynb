{
  "cells": [
    {
      "cell_type": "markdown",
      "id": "2d64183c",
      "metadata": {
        "id": "2d64183c"
      },
      "source": [
        "Use any dataset of plant disease and design a plant disease detection system using CNN."
      ]
    },
    {
      "cell_type": "markdown",
      "id": "94f8845e",
      "metadata": {
        "id": "94f8845e"
      },
      "source": [
        "Importing Images & Libraries"
      ]
    },
    {
      "cell_type": "code",
      "source": [
        "from google.colab import files\n",
        "files.upload()\n",
        "!mkdir ~/.kaggle\n",
        "!mv kaggle.json ~/.kaggle/\n",
        "!chmod 600 ~/.kaggle/kaggle.json\n",
        "\n",
        "!kaggle datasets download -d noulam/tomato\n",
        "\n",
        "!unzip -q tomato.zip"
      ],
      "metadata": {
        "colab": {
          "base_uri": "https://localhost:8080/",
          "height": 125
        },
        "id": "VlGNxQj5t8_8",
        "outputId": "14528698-f059-4cb9-c397-34c4d216d488"
      },
      "id": "VlGNxQj5t8_8",
      "execution_count": null,
      "outputs": [
        {
          "output_type": "display_data",
          "data": {
            "text/plain": [
              "<IPython.core.display.HTML object>"
            ],
            "text/html": [
              "\n",
              "     <input type=\"file\" id=\"files-a7712619-0ca6-46d9-8385-22143b046627\" name=\"files[]\" multiple disabled\n",
              "        style=\"border:none\" />\n",
              "     <output id=\"result-a7712619-0ca6-46d9-8385-22143b046627\">\n",
              "      Upload widget is only available when the cell has been executed in the\n",
              "      current browser session. Please rerun this cell to enable.\n",
              "      </output>\n",
              "      <script>// Copyright 2017 Google LLC\n",
              "//\n",
              "// Licensed under the Apache License, Version 2.0 (the \"License\");\n",
              "// you may not use this file except in compliance with the License.\n",
              "// You may obtain a copy of the License at\n",
              "//\n",
              "//      http://www.apache.org/licenses/LICENSE-2.0\n",
              "//\n",
              "// Unless required by applicable law or agreed to in writing, software\n",
              "// distributed under the License is distributed on an \"AS IS\" BASIS,\n",
              "// WITHOUT WARRANTIES OR CONDITIONS OF ANY KIND, either express or implied.\n",
              "// See the License for the specific language governing permissions and\n",
              "// limitations under the License.\n",
              "\n",
              "/**\n",
              " * @fileoverview Helpers for google.colab Python module.\n",
              " */\n",
              "(function(scope) {\n",
              "function span(text, styleAttributes = {}) {\n",
              "  const element = document.createElement('span');\n",
              "  element.textContent = text;\n",
              "  for (const key of Object.keys(styleAttributes)) {\n",
              "    element.style[key] = styleAttributes[key];\n",
              "  }\n",
              "  return element;\n",
              "}\n",
              "\n",
              "// Max number of bytes which will be uploaded at a time.\n",
              "const MAX_PAYLOAD_SIZE = 100 * 1024;\n",
              "\n",
              "function _uploadFiles(inputId, outputId) {\n",
              "  const steps = uploadFilesStep(inputId, outputId);\n",
              "  const outputElement = document.getElementById(outputId);\n",
              "  // Cache steps on the outputElement to make it available for the next call\n",
              "  // to uploadFilesContinue from Python.\n",
              "  outputElement.steps = steps;\n",
              "\n",
              "  return _uploadFilesContinue(outputId);\n",
              "}\n",
              "\n",
              "// This is roughly an async generator (not supported in the browser yet),\n",
              "// where there are multiple asynchronous steps and the Python side is going\n",
              "// to poll for completion of each step.\n",
              "// This uses a Promise to block the python side on completion of each step,\n",
              "// then passes the result of the previous step as the input to the next step.\n",
              "function _uploadFilesContinue(outputId) {\n",
              "  const outputElement = document.getElementById(outputId);\n",
              "  const steps = outputElement.steps;\n",
              "\n",
              "  const next = steps.next(outputElement.lastPromiseValue);\n",
              "  return Promise.resolve(next.value.promise).then((value) => {\n",
              "    // Cache the last promise value to make it available to the next\n",
              "    // step of the generator.\n",
              "    outputElement.lastPromiseValue = value;\n",
              "    return next.value.response;\n",
              "  });\n",
              "}\n",
              "\n",
              "/**\n",
              " * Generator function which is called between each async step of the upload\n",
              " * process.\n",
              " * @param {string} inputId Element ID of the input file picker element.\n",
              " * @param {string} outputId Element ID of the output display.\n",
              " * @return {!Iterable<!Object>} Iterable of next steps.\n",
              " */\n",
              "function* uploadFilesStep(inputId, outputId) {\n",
              "  const inputElement = document.getElementById(inputId);\n",
              "  inputElement.disabled = false;\n",
              "\n",
              "  const outputElement = document.getElementById(outputId);\n",
              "  outputElement.innerHTML = '';\n",
              "\n",
              "  const pickedPromise = new Promise((resolve) => {\n",
              "    inputElement.addEventListener('change', (e) => {\n",
              "      resolve(e.target.files);\n",
              "    });\n",
              "  });\n",
              "\n",
              "  const cancel = document.createElement('button');\n",
              "  inputElement.parentElement.appendChild(cancel);\n",
              "  cancel.textContent = 'Cancel upload';\n",
              "  const cancelPromise = new Promise((resolve) => {\n",
              "    cancel.onclick = () => {\n",
              "      resolve(null);\n",
              "    };\n",
              "  });\n",
              "\n",
              "  // Wait for the user to pick the files.\n",
              "  const files = yield {\n",
              "    promise: Promise.race([pickedPromise, cancelPromise]),\n",
              "    response: {\n",
              "      action: 'starting',\n",
              "    }\n",
              "  };\n",
              "\n",
              "  cancel.remove();\n",
              "\n",
              "  // Disable the input element since further picks are not allowed.\n",
              "  inputElement.disabled = true;\n",
              "\n",
              "  if (!files) {\n",
              "    return {\n",
              "      response: {\n",
              "        action: 'complete',\n",
              "      }\n",
              "    };\n",
              "  }\n",
              "\n",
              "  for (const file of files) {\n",
              "    const li = document.createElement('li');\n",
              "    li.append(span(file.name, {fontWeight: 'bold'}));\n",
              "    li.append(span(\n",
              "        `(${file.type || 'n/a'}) - ${file.size} bytes, ` +\n",
              "        `last modified: ${\n",
              "            file.lastModifiedDate ? file.lastModifiedDate.toLocaleDateString() :\n",
              "                                    'n/a'} - `));\n",
              "    const percent = span('0% done');\n",
              "    li.appendChild(percent);\n",
              "\n",
              "    outputElement.appendChild(li);\n",
              "\n",
              "    const fileDataPromise = new Promise((resolve) => {\n",
              "      const reader = new FileReader();\n",
              "      reader.onload = (e) => {\n",
              "        resolve(e.target.result);\n",
              "      };\n",
              "      reader.readAsArrayBuffer(file);\n",
              "    });\n",
              "    // Wait for the data to be ready.\n",
              "    let fileData = yield {\n",
              "      promise: fileDataPromise,\n",
              "      response: {\n",
              "        action: 'continue',\n",
              "      }\n",
              "    };\n",
              "\n",
              "    // Use a chunked sending to avoid message size limits. See b/62115660.\n",
              "    let position = 0;\n",
              "    do {\n",
              "      const length = Math.min(fileData.byteLength - position, MAX_PAYLOAD_SIZE);\n",
              "      const chunk = new Uint8Array(fileData, position, length);\n",
              "      position += length;\n",
              "\n",
              "      const base64 = btoa(String.fromCharCode.apply(null, chunk));\n",
              "      yield {\n",
              "        response: {\n",
              "          action: 'append',\n",
              "          file: file.name,\n",
              "          data: base64,\n",
              "        },\n",
              "      };\n",
              "\n",
              "      let percentDone = fileData.byteLength === 0 ?\n",
              "          100 :\n",
              "          Math.round((position / fileData.byteLength) * 100);\n",
              "      percent.textContent = `${percentDone}% done`;\n",
              "\n",
              "    } while (position < fileData.byteLength);\n",
              "  }\n",
              "\n",
              "  // All done.\n",
              "  yield {\n",
              "    response: {\n",
              "      action: 'complete',\n",
              "    }\n",
              "  };\n",
              "}\n",
              "\n",
              "scope.google = scope.google || {};\n",
              "scope.google.colab = scope.google.colab || {};\n",
              "scope.google.colab._files = {\n",
              "  _uploadFiles,\n",
              "  _uploadFilesContinue,\n",
              "};\n",
              "})(self);\n",
              "</script> "
            ]
          },
          "metadata": {}
        },
        {
          "output_type": "stream",
          "name": "stdout",
          "text": [
            "Saving kaggle.json to kaggle.json\n",
            "Downloading tomato.zip to /content\n",
            "100% 743M/743M [00:36<00:00, 22.5MB/s]\n",
            "100% 743M/743M [00:36<00:00, 21.4MB/s]\n"
          ]
        }
      ]
    },
    {
      "cell_type": "code",
      "execution_count": null,
      "id": "68a78014",
      "metadata": {
        "id": "68a78014"
      },
      "outputs": [],
      "source": [
        "from tensorflow.keras.preprocessing.image import ImageDataGenerator, load_img, img_to_array"
      ]
    },
    {
      "cell_type": "code",
      "execution_count": null,
      "id": "ab0a98fc",
      "metadata": {
        "id": "ab0a98fc"
      },
      "outputs": [],
      "source": [
        "#https://www.kaggle.com/datasets/noulam/tomato (Link to the dataset)\n",
        "\n",
        "#Originally New Plant Diseases Dataset(Augmented) contains two folders [train & valid] each containing 10 directories i.e. 10 classes - 1. Tomato___Bacterial_spot 2. Tomato___Early_blight 3. Tomato___Late_blight 4. Tomato___Leaf_Mold 5. Tomato___Septoria_leaf_spot 6. Tomato___Spider_mites Two-spotted_spider_mite 7. Tomato___Target_Spot 8. Tomato___Tomato_Yellow_Leaf_Curl_Virus 9. Tomato___Tomato_mosaic_virus 10. Tomato___healthy [Train - 18345 Total Images, Valid - 4585 Total Images]\n",
        "\n",
        "#But for training & validating we have taken only three classes namely 1. Tomato___Bacterial_spot 2. Tomato___Early_blight 3. Tomato___healthy each class containing 200 images i.e. total images - 600 [Train - 600 Total Images, Valid - 600 Total Images]"
      ]
    },
    {
      "cell_type": "code",
      "execution_count": null,
      "id": "ccdfd166",
      "metadata": {
        "id": "ccdfd166"
      },
      "outputs": [],
      "source": [
        "#Path to the New Plant Diseases Dataset(Augmented)\n",
        "train_dir = 'New Plant Diseases Dataset(Augmented)/train'\n",
        "val_dir = 'New Plant Diseases Dataset(Augmented)/valid'"
      ]
    },
    {
      "cell_type": "code",
      "execution_count": null,
      "id": "871343bb",
      "metadata": {
        "id": "871343bb"
      },
      "outputs": [],
      "source": [
        "img_size = 224\n",
        "batch_size = 32"
      ]
    },
    {
      "cell_type": "markdown",
      "id": "29ece912",
      "metadata": {
        "id": "29ece912"
      },
      "source": [
        "Preprocessing"
      ]
    },
    {
      "cell_type": "code",
      "execution_count": null,
      "id": "d22e8b08",
      "metadata": {
        "colab": {
          "base_uri": "https://localhost:8080/"
        },
        "id": "d22e8b08",
        "outputId": "851e2d1d-87d5-45c7-85c1-913713f27e1e"
      },
      "outputs": [
        {
          "output_type": "stream",
          "name": "stdout",
          "text": [
            "Found 18345 images belonging to 10 classes.\n"
          ]
        }
      ],
      "source": [
        "train_datagen = ImageDataGenerator(rescale=1./255)\n",
        "train_generator = train_datagen.flow_from_directory(train_dir,target_size=(img_size, img_size),batch_size=batch_size,\n",
        "                                                    class_mode='categorical')"
      ]
    },
    {
      "cell_type": "code",
      "execution_count": null,
      "id": "38828670",
      "metadata": {
        "colab": {
          "base_uri": "https://localhost:8080/"
        },
        "id": "38828670",
        "outputId": "68a5780a-0403-4df0-ceb4-048d3ef0289d"
      },
      "outputs": [
        {
          "output_type": "stream",
          "name": "stdout",
          "text": [
            "Found 4585 images belonging to 10 classes.\n"
          ]
        }
      ],
      "source": [
        "val_datagen = ImageDataGenerator(rescale=1./255)\n",
        "val_generator = val_datagen.flow_from_directory(val_dir,\n",
        "                                                target_size=(img_size, img_size),\n",
        "                                                batch_size=batch_size,\n",
        "                                                class_mode='categorical')"
      ]
    },
    {
      "cell_type": "code",
      "execution_count": null,
      "id": "cf620258",
      "metadata": {
        "colab": {
          "base_uri": "https://localhost:8080/"
        },
        "id": "cf620258",
        "outputId": "d3e4ed15-5e46-4bb8-db09-8a92cfbad769"
      },
      "outputs": [
        {
          "output_type": "execute_result",
          "data": {
            "text/plain": [
              "['Tomato___Bacterial_spot',\n",
              " 'Tomato___Early_blight',\n",
              " 'Tomato___Late_blight',\n",
              " 'Tomato___Leaf_Mold',\n",
              " 'Tomato___Septoria_leaf_spot',\n",
              " 'Tomato___Spider_mites Two-spotted_spider_mite',\n",
              " 'Tomato___Target_Spot',\n",
              " 'Tomato___Tomato_Yellow_Leaf_Curl_Virus',\n",
              " 'Tomato___Tomato_mosaic_virus',\n",
              " 'Tomato___healthy']"
            ]
          },
          "metadata": {},
          "execution_count": 8
        }
      ],
      "source": [
        "list(train_generator.class_indices)"
      ]
    },
    {
      "cell_type": "markdown",
      "id": "34fddeb0",
      "metadata": {
        "id": "34fddeb0"
      },
      "source": [
        "Building our Model"
      ]
    },
    {
      "cell_type": "code",
      "execution_count": null,
      "id": "c206b9f0",
      "metadata": {
        "id": "c206b9f0"
      },
      "outputs": [],
      "source": [
        "from tensorflow.keras.models import Sequential\n",
        "from tensorflow.keras.layers import Conv2D, MaxPooling2D, Flatten, Dense, Dropout, BatchNormalization"
      ]
    },
    {
      "cell_type": "code",
      "execution_count": null,
      "id": "bdb610c9",
      "metadata": {
        "colab": {
          "base_uri": "https://localhost:8080/"
        },
        "id": "bdb610c9",
        "outputId": "23023d29-00f4-478d-e491-816def26b572"
      },
      "outputs": [
        {
          "output_type": "stream",
          "name": "stdout",
          "text": [
            "Model: \"sequential\"\n",
            "_________________________________________________________________\n",
            " Layer (type)                Output Shape              Param #   \n",
            "=================================================================\n",
            " conv2d (Conv2D)             (None, 222, 222, 32)      896       \n",
            "                                                                 \n",
            " batch_normalization (Batch  (None, 222, 222, 32)      128       \n",
            " Normalization)                                                  \n",
            "                                                                 \n",
            " max_pooling2d (MaxPooling2  (None, 111, 111, 32)      0         \n",
            " D)                                                              \n",
            "                                                                 \n",
            " conv2d_1 (Conv2D)           (None, 109, 109, 64)      18496     \n",
            "                                                                 \n",
            " batch_normalization_1 (Bat  (None, 109, 109, 64)      256       \n",
            " chNormalization)                                                \n",
            "                                                                 \n",
            " max_pooling2d_1 (MaxPoolin  (None, 54, 54, 64)        0         \n",
            " g2D)                                                            \n",
            "                                                                 \n",
            " conv2d_2 (Conv2D)           (None, 52, 52, 64)        36928     \n",
            "                                                                 \n",
            " batch_normalization_2 (Bat  (None, 52, 52, 64)        256       \n",
            " chNormalization)                                                \n",
            "                                                                 \n",
            " max_pooling2d_2 (MaxPoolin  (None, 26, 26, 64)        0         \n",
            " g2D)                                                            \n",
            "                                                                 \n",
            " conv2d_3 (Conv2D)           (None, 24, 24, 128)       73856     \n",
            "                                                                 \n",
            " batch_normalization_3 (Bat  (None, 24, 24, 128)       512       \n",
            " chNormalization)                                                \n",
            "                                                                 \n",
            " max_pooling2d_3 (MaxPoolin  (None, 12, 12, 128)       0         \n",
            " g2D)                                                            \n",
            "                                                                 \n",
            " flatten (Flatten)           (None, 18432)             0         \n",
            "                                                                 \n",
            " dense (Dense)               (None, 128)               2359424   \n",
            "                                                                 \n",
            " dropout (Dropout)           (None, 128)               0         \n",
            "                                                                 \n",
            " dense_1 (Dense)             (None, 64)                8256      \n",
            "                                                                 \n",
            " dense_2 (Dense)             (None, 10)                650       \n",
            "                                                                 \n",
            "=================================================================\n",
            "Total params: 2499658 (9.54 MB)\n",
            "Trainable params: 2499082 (9.53 MB)\n",
            "Non-trainable params: 576 (2.25 KB)\n",
            "_________________________________________________________________\n"
          ]
        }
      ],
      "source": [
        "model = Sequential()\n",
        "\n",
        "model.add((Conv2D(32, (3,3), activation='relu', input_shape=(img_size, img_size, 3))))\n",
        "model.add(BatchNormalization())\n",
        "model.add((MaxPooling2D(2,2)))\n",
        "model.add((Conv2D(64, (3,3), activation='relu')))\n",
        "model.add(BatchNormalization())\n",
        "model.add((MaxPooling2D(2,2)))\n",
        "model.add((Conv2D(64, (3,3), activation='relu')))\n",
        "model.add(BatchNormalization())\n",
        "model.add((MaxPooling2D(2,2)))\n",
        "model.add((Conv2D(128, (3,3), activation='relu')))\n",
        "model.add(BatchNormalization())\n",
        "model.add((MaxPooling2D(2,2)))\n",
        "\n",
        "model.add((Flatten()))\n",
        "\n",
        "model.add((Dense(128, activation='relu')))\n",
        "model.add((Dropout(0.2)))\n",
        "model.add((Dense(64, activation='relu')))\n",
        "model.add((Dense(train_generator.num_classes, activation='softmax')))\n",
        "\n",
        "model.summary()"
      ]
    },
    {
      "cell_type": "code",
      "execution_count": null,
      "id": "502596da",
      "metadata": {
        "id": "502596da"
      },
      "outputs": [],
      "source": [
        "model.compile(optimizer='adam', loss='categorical_crossentropy', metrics=['accuracy'])"
      ]
    },
    {
      "cell_type": "markdown",
      "id": "a7fe6c7e",
      "metadata": {
        "id": "a7fe6c7e"
      },
      "source": [
        "Training our Model"
      ]
    },
    {
      "cell_type": "code",
      "execution_count": null,
      "id": "e5122228",
      "metadata": {
        "colab": {
          "base_uri": "https://localhost:8080/"
        },
        "id": "e5122228",
        "outputId": "06d7c690-5cec-4881-ab01-55b95769ceca"
      },
      "outputs": [
        {
          "output_type": "stream",
          "name": "stdout",
          "text": [
            "Epoch 1/3\n",
            "574/574 [==============================] - 58s 84ms/step - loss: 1.1461 - accuracy: 0.6460 - val_loss: 1.6573 - val_accuracy: 0.5241\n",
            "Epoch 2/3\n",
            "574/574 [==============================] - 47s 82ms/step - loss: 0.6085 - accuracy: 0.8043 - val_loss: 2.0613 - val_accuracy: 0.4848\n",
            "Epoch 3/3\n",
            "574/574 [==============================] - 48s 83ms/step - loss: 0.4567 - accuracy: 0.8534 - val_loss: 0.5054 - val_accuracy: 0.8427\n"
          ]
        },
        {
          "output_type": "execute_result",
          "data": {
            "text/plain": [
              "<keras.src.callbacks.History at 0x7855a3f015d0>"
            ]
          },
          "metadata": {},
          "execution_count": 12
        }
      ],
      "source": [
        "model.fit(train_generator, epochs=3, validation_data=val_generator)"
      ]
    },
    {
      "cell_type": "markdown",
      "id": "310a3486",
      "metadata": {
        "id": "310a3486"
      },
      "source": [
        "Evaluating our Model"
      ]
    },
    {
      "cell_type": "code",
      "execution_count": null,
      "id": "1d0c7b9c",
      "metadata": {
        "colab": {
          "base_uri": "https://localhost:8080/"
        },
        "id": "1d0c7b9c",
        "outputId": "5e0d6238-b46c-459e-e1b6-7f6db492eae6"
      },
      "outputs": [
        {
          "output_type": "stream",
          "name": "stdout",
          "text": [
            "144/144 [==============================] - 9s 63ms/step - loss: 0.5054 - accuracy: 0.8427\n",
            "Loss : 0.505395233631134\n",
            "Accuracy (Test Data) : 84.27481055259705\n"
          ]
        }
      ],
      "source": [
        "loss, accuracy = model.evaluate(val_generator)\n",
        "print(\"Loss :\",loss)\n",
        "print(\"Accuracy (Test Data) :\",accuracy*100)"
      ]
    },
    {
      "cell_type": "markdown",
      "id": "9e54a4d4",
      "metadata": {
        "id": "9e54a4d4"
      },
      "source": [
        "Testing our Model"
      ]
    },
    {
      "cell_type": "code",
      "execution_count": null,
      "id": "def8412e",
      "metadata": {
        "id": "def8412e"
      },
      "outputs": [],
      "source": [
        "import numpy as np\n",
        "img_path =r'New Plant Diseases Dataset(Augmented)/valid/Tomato___Early_blight/28d03063-a772-4136-80fd-3bbff0fffa41___RS_Erly.B 7370.JPG'\n",
        "img = load_img(img_path, target_size=(224, 224))\n",
        "img_array = img_to_array(img)\n",
        "img_array = np.expand_dims(img_array, axis=0)\n",
        "img_array /= 255."
      ]
    },
    {
      "cell_type": "code",
      "execution_count": null,
      "id": "bf0c1fac",
      "metadata": {
        "colab": {
          "base_uri": "https://localhost:8080/"
        },
        "id": "bf0c1fac",
        "outputId": "741ea23f-8119-4f46-c529-4d1163fd6da7"
      },
      "outputs": [
        {
          "output_type": "stream",
          "name": "stdout",
          "text": [
            "1/1 [==============================] - 0s 29ms/step\n"
          ]
        }
      ],
      "source": [
        "prediction = model.predict(img_array)\n",
        "class_names=['Tomato___Bacterial_spot', 'Tomato___Early_blight', 'Tomato___healthy']"
      ]
    },
    {
      "cell_type": "code",
      "execution_count": null,
      "id": "5965336f",
      "metadata": {
        "colab": {
          "base_uri": "https://localhost:8080/"
        },
        "id": "5965336f",
        "outputId": "d32bc7fe-bfae-4a64-da31-49c8079a95e8"
      },
      "outputs": [
        {
          "output_type": "stream",
          "name": "stdout",
          "text": [
            "[[9.2648637e-01 5.7940453e-02 1.8187028e-03 1.7453975e-05 2.0669166e-04\n",
            "  1.0303264e-04 1.2118775e-06 1.3422115e-02 3.0397280e-07 3.6898989e-06]]\n",
            "0\n",
            "Predicted class: Tomato___Bacterial_spot\n"
          ]
        }
      ],
      "source": [
        "predicted_class = np.argmax(prediction)\n",
        "print(prediction)\n",
        "print(predicted_class)\n",
        "print('Predicted class:', class_names[predicted_class])"
      ]
    }
  ],
  "metadata": {
    "kernelspec": {
      "display_name": "Python 3",
      "name": "python3"
    },
    "language_info": {
      "codemirror_mode": {
        "name": "ipython",
        "version": 3
      },
      "file_extension": ".py",
      "mimetype": "text/x-python",
      "name": "python",
      "nbconvert_exporter": "python",
      "pygments_lexer": "ipython3",
      "version": "3.10.9"
    },
    "colab": {
      "provenance": [],
      "gpuType": "T4"
    },
    "accelerator": "GPU"
  },
  "nbformat": 4,
  "nbformat_minor": 5
}